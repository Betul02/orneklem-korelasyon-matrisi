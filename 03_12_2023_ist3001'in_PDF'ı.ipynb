{
  "nbformat": 4,
  "nbformat_minor": 0,
  "metadata": {
    "colab": {
      "provenance": [],
      "authorship_tag": "ABX9TyP+r/yO9nGRZGvvP8lT13tF",
      "include_colab_link": true
    },
    "kernelspec": {
      "name": "python3",
      "display_name": "Python 3"
    },
    "language_info": {
      "name": "python"
    }
  },
  "cells": [
    {
      "cell_type": "markdown",
      "metadata": {
        "id": "view-in-github",
        "colab_type": "text"
      },
      "source": [
        "<a href=\"https://colab.research.google.com/github/Betul02/orneklem-korelasyon-matrisi/blob/main/03_12_2023_ist3001'in_PDF'%C4%B1.ipynb\" target=\"_parent\"><img src=\"https://colab.research.google.com/assets/colab-badge.svg\" alt=\"Open In Colab\"/></a>"
      ]
    },
    {
      "cell_type": "code",
      "source": [
        "import numpy as np"
      ],
      "metadata": {
        "id": "xIE6V28hoXJl"
      },
      "execution_count": 85,
      "outputs": []
    },
    {
      "cell_type": "code",
      "execution_count": 86,
      "metadata": {
        "colab": {
          "base_uri": "https://localhost:8080/"
        },
        "id": "Unn48YLtny3F",
        "outputId": "0839346d-42cc-4eec-bc07-7cca6d650a7d"
      },
      "outputs": [
        {
          "output_type": "stream",
          "name": "stdout",
          "text": [
            "veri matrisi = x\n",
            "[[ 7  8  2 10  5  2  5  2  1  6]\n",
            " [ 9  5  2  1  1  6  8  8  2  7]\n",
            " [ 8  2 10  1  2  4  2  2  9  9]]\n"
          ]
        }
      ],
      "source": [
        "#matrisi oluşturma ve yazdırma\n",
        "x1 = np.array([7, 9, 8])\n",
        "x2 = np.array([8, 5, 2])\n",
        "x3 = np.array([2, 2, 10])\n",
        "x4 = np.array([10, 1, 1])\n",
        "x5 = np.array([5, 1, 2])\n",
        "x6 = np.array([2, 6, 4])\n",
        "x7 = np.array([5, 8, 2])\n",
        "x8 = np.array([2, 8, 2])\n",
        "x9 = np.array([1, 2, 9])\n",
        "x10 = np.array([6, 7, 9])\n",
        "x = np.array([x1, x2, x3, x4, x5, x6, x7, x8, x9, x10]).T;\n",
        "print(\"veri matrisi = x\")\n",
        "print(x)"
      ]
    },
    {
      "cell_type": "code",
      "source": [
        "#boyutunu öğrenme\n",
        "x.shape"
      ],
      "metadata": {
        "colab": {
          "base_uri": "https://localhost:8080/"
        },
        "id": "gBkFhavG7rMD",
        "outputId": "c31a0783-697e-4067-f354-85861fac8564"
      },
      "execution_count": 87,
      "outputs": [
        {
          "output_type": "execute_result",
          "data": {
            "text/plain": [
              "(3, 10)"
            ]
          },
          "metadata": {},
          "execution_count": 87
        }
      ]
    },
    {
      "cell_type": "code",
      "source": [
        "#örneklem ortalama vektörü\n",
        "örneklem_ort = np.array([np.mean(x, axis=1)]).T\n",
        "print(\"örneklem ortalama vektörü\")\n",
        "print(örneklem_ort)"
      ],
      "metadata": {
        "colab": {
          "base_uri": "https://localhost:8080/"
        },
        "id": "1MdlKmWE7t2W",
        "outputId": "c4a5752f-9862-4ca3-833d-0f4f3f6037c9"
      },
      "execution_count": 88,
      "outputs": [
        {
          "output_type": "stream",
          "name": "stdout",
          "text": [
            "örneklem ortalama vektörü\n",
            "[[4.8]\n",
            " [4.9]\n",
            " [4.9]]\n"
          ]
        }
      ]
    },
    {
      "cell_type": "code",
      "source": [
        "#örneklem varyans-kovaryans matrisi\n",
        "def örneklem_var_cov_matrisi(x, örneklem_ort):\n",
        "\n",
        "    degisken_sayisi = x.shape[0]\n",
        "    gozlem_sayisi = x.shape[1]\n",
        "\n",
        "    # Örneklem varyans-kovaryans matrisini hesaplama\n",
        "    # Elemanları 0 olan boş matris oluşturma\n",
        "    kovaryans_matrisi = np.zeros((degisken_sayisi, degisken_sayisi))\n",
        "\n",
        "    for i in range(degisken_sayisi):\n",
        "        for j in range(degisken_sayisi):\n",
        "            S_i = x[i, :] - örneklem_ort[i]\n",
        "            S_j = x[j, :] - örneklem_ort[j]\n",
        "            kovaryans_matrisi[i, j] = np.sum(S_i * S_j) / gozlem_sayisi\n",
        "\n",
        "    return kovaryans_matrisi\n",
        "\n",
        "\n",
        "\n",
        "# Fonksiyonu çağırma\n",
        "kovaryans_matrisi = örneklem_var_cov_matrisi(x, örneklem_ort)\n",
        "\n",
        "# Sonuçları yazdırma\n",
        "print(\"Örneklem Varyans-Kovaryans Matrisi:\")\n",
        "print(kovaryans_matrisi)"
      ],
      "metadata": {
        "colab": {
          "base_uri": "https://localhost:8080/"
        },
        "id": "GzRa9h0CUfhE",
        "outputId": "f649ad90-8a1f-4220-bc15-91af5b35c961"
      },
      "execution_count": 89,
      "outputs": [
        {
          "output_type": "stream",
          "name": "stdout",
          "text": [
            "Örneklem Varyans-Kovaryans Matrisi:\n",
            "[[ 8.16 -0.12 -3.82]\n",
            " [-0.12  8.89  0.19]\n",
            " [-3.82  0.19 11.89]]\n"
          ]
        }
      ]
    },
    {
      "cell_type": "code",
      "source": [
        "def hesaplanan_korelasyon_matrisi(x):\n",
        "\n",
        "    # Örneklem korelasyon matrisini hesaplama\n",
        "    korelasyon_matrisi = np.zeros((degisken_sayisi, degisken_sayisi))\n",
        "\n",
        "    for i in range(degisken_sayisi):\n",
        "        for j in range(degisken_sayisi):\n",
        "            # Her iki değişkenin örneklem ortalamasını hesapla\n",
        "            örneklem_ort_i = np.mean(x[i, :])\n",
        "            örneklem_ort_j = np.mean(x[j, :])\n",
        "\n",
        "            # İki değişken arasındaki örneklem korelasyonunu hesapla\n",
        "            kovaryans = np.sum((x[i, :] - örneklem_ort_i) * (x[j, :] - örneklem_ort_j))\n",
        "            standart_sapma = np.sqrt(np.sum((x[i, :] - örneklem_ort_i)**2) * np.sum((x[j, :] - örneklem_ort_j)**2))\n",
        "\n",
        "            # Korelasyon matrisine değeri atla\n",
        "            korelasyon_matrisi[i, j] = kovaryans / standart_sapma\n",
        "\n",
        "    return korelasyon_matrisi\n",
        "\n",
        "\n",
        "# Fonksiyonu çağırma\n",
        "korelasyon_matrisi = hesaplanan_korelasyon_matrisi(x)\n",
        "\n",
        "# Sonuçları yazdırma\n",
        "print(\"Örneklem Korelasyon Matrisi:\")\n",
        "print(korelasyon_matrisi)"
      ],
      "metadata": {
        "colab": {
          "base_uri": "https://localhost:8080/"
        },
        "id": "aP-ufWCk7Pq2",
        "outputId": "95ac53d1-b812-440d-cedc-b8e1f09266f3"
      },
      "execution_count": 94,
      "outputs": [
        {
          "output_type": "stream",
          "name": "stdout",
          "text": [
            "Örneklem Korelasyon Matrisi:\n",
            "[[ 1.         -0.01408917 -0.38781746]\n",
            " [-0.01408917  1.          0.01848042]\n",
            " [-0.38781746  0.01848042  1.        ]]\n"
          ]
        }
      ]
    }
  ]
}